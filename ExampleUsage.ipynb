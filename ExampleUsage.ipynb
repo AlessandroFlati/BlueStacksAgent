{
 "cells": [
  {
   "metadata": {},
   "cell_type": "markdown",
   "source": [
    "# Example Usage\n",
    "\n",
    "This notebook demonstrates how to use the `BlueStacksAgent` class from the `BlueStacksAgent` package.\n",
    "\n",
    "In particular, we will show how to create an instance of `BlueStacksAgent` and start the capture stream through providing a simple Actuator that shows the frames in a window.\n",
    "\n",
    "For this example, we will use the `scrcpy` agent to capture the screen - for more in-depth information on the `scrcpy` agent, please refer to the `scrcpy-client` package documentation and refer to the specialized `ScrcpyExampleUsage.ipynb` notebook."
   ],
   "id": "215f8d7cf166d0ff"
  },
  {
   "metadata": {
    "ExecuteTime": {
     "end_time": "2025-02-28T08:50:22.906355Z",
     "start_time": "2025-02-28T08:50:20.287349Z"
    }
   },
   "cell_type": "code",
   "source": [
    "# Install the BlueStacksAgent package\n",
    "!pip install BlueStacksAgent\n",
    "!pip install opencv-python"
   ],
   "id": "eb11656162644b2f",
   "outputs": [
    {
     "name": "stdout",
     "output_type": "stream",
     "text": [
      "Looking in indexes: https://pypi.org/simple, https://pypi.ngc.nvidia.com\n",
      "Requirement already satisfied: BlueStacksAgent in c:\\users\\aless\\pycharmprojects\\bluestacksagent (0.1.0)\n",
      "Requirement already satisfied: scrcpy-client in c:\\users\\aless\\pycharmprojects\\bluestacksagent\\.venv\\lib\\site-packages (from BlueStacksAgent) (0.4.7)\n",
      "Requirement already satisfied: numpy in c:\\users\\aless\\pycharmprojects\\bluestacksagent\\.venv\\lib\\site-packages (from BlueStacksAgent) (2.2.3)\n",
      "Requirement already satisfied: adbutils<2.0.0,>=1.0.8 in c:\\users\\aless\\pycharmprojects\\bluestacksagent\\.venv\\lib\\site-packages (from scrcpy-client->BlueStacksAgent) (1.2.15)\n",
      "Requirement already satisfied: av<10.0.0,>=9.0.0 in c:\\users\\aless\\pycharmprojects\\bluestacksagent\\.venv\\lib\\site-packages (from scrcpy-client->BlueStacksAgent) (9.2.0)\n",
      "Requirement already satisfied: opencv-python<5.0.0,>=4.5.0 in c:\\users\\aless\\pycharmprojects\\bluestacksagent\\.venv\\lib\\site-packages (from scrcpy-client->BlueStacksAgent) (4.11.0.86)\n",
      "Requirement already satisfied: whichcraft in c:\\users\\aless\\pycharmprojects\\bluestacksagent\\.venv\\lib\\site-packages (from adbutils<2.0.0,>=1.0.8->scrcpy-client->BlueStacksAgent) (0.6.1)\n",
      "Requirement already satisfied: requests in c:\\users\\aless\\pycharmprojects\\bluestacksagent\\.venv\\lib\\site-packages (from adbutils<2.0.0,>=1.0.8->scrcpy-client->BlueStacksAgent) (2.32.3)\n",
      "Requirement already satisfied: deprecation<3.0,>=2.0.6 in c:\\users\\aless\\pycharmprojects\\bluestacksagent\\.venv\\lib\\site-packages (from adbutils<2.0.0,>=1.0.8->scrcpy-client->BlueStacksAgent) (2.1.0)\n",
      "Requirement already satisfied: retry>=0.9 in c:\\users\\aless\\pycharmprojects\\bluestacksagent\\.venv\\lib\\site-packages (from adbutils<2.0.0,>=1.0.8->scrcpy-client->BlueStacksAgent) (0.9.2)\n",
      "Requirement already satisfied: apkutils2<2.0,>=1.0.0 in c:\\users\\aless\\pycharmprojects\\bluestacksagent\\.venv\\lib\\site-packages (from adbutils<2.0.0,>=1.0.8->scrcpy-client->BlueStacksAgent) (1.0.0)\n",
      "Requirement already satisfied: Pillow in c:\\users\\aless\\pycharmprojects\\bluestacksagent\\.venv\\lib\\site-packages (from adbutils<2.0.0,>=1.0.8->scrcpy-client->BlueStacksAgent) (11.1.0)\n",
      "Requirement already satisfied: pyelftools in c:\\users\\aless\\pycharmprojects\\bluestacksagent\\.venv\\lib\\site-packages (from apkutils2<2.0,>=1.0.0->adbutils<2.0.0,>=1.0.8->scrcpy-client->BlueStacksAgent) (0.32)\n",
      "Requirement already satisfied: cigam in c:\\users\\aless\\pycharmprojects\\bluestacksagent\\.venv\\lib\\site-packages (from apkutils2<2.0,>=1.0.0->adbutils<2.0.0,>=1.0.8->scrcpy-client->BlueStacksAgent) (0.0.3)\n",
      "Requirement already satisfied: xmltodict in c:\\users\\aless\\pycharmprojects\\bluestacksagent\\.venv\\lib\\site-packages (from apkutils2<2.0,>=1.0.0->adbutils<2.0.0,>=1.0.8->scrcpy-client->BlueStacksAgent) (0.14.2)\n",
      "Requirement already satisfied: packaging in c:\\users\\aless\\pycharmprojects\\bluestacksagent\\.venv\\lib\\site-packages (from deprecation<3.0,>=2.0.6->adbutils<2.0.0,>=1.0.8->scrcpy-client->BlueStacksAgent) (24.2)\n",
      "Requirement already satisfied: decorator>=3.4.2 in c:\\users\\aless\\pycharmprojects\\bluestacksagent\\.venv\\lib\\site-packages (from retry>=0.9->adbutils<2.0.0,>=1.0.8->scrcpy-client->BlueStacksAgent) (5.2.1)\n",
      "Requirement already satisfied: py<2.0.0,>=1.4.26 in c:\\users\\aless\\pycharmprojects\\bluestacksagent\\.venv\\lib\\site-packages (from retry>=0.9->adbutils<2.0.0,>=1.0.8->scrcpy-client->BlueStacksAgent) (1.11.0)\n",
      "Requirement already satisfied: charset-normalizer<4,>=2 in c:\\users\\aless\\pycharmprojects\\bluestacksagent\\.venv\\lib\\site-packages (from requests->adbutils<2.0.0,>=1.0.8->scrcpy-client->BlueStacksAgent) (3.4.1)\n",
      "Requirement already satisfied: idna<4,>=2.5 in c:\\users\\aless\\pycharmprojects\\bluestacksagent\\.venv\\lib\\site-packages (from requests->adbutils<2.0.0,>=1.0.8->scrcpy-client->BlueStacksAgent) (3.10)\n",
      "Requirement already satisfied: urllib3<3,>=1.21.1 in c:\\users\\aless\\pycharmprojects\\bluestacksagent\\.venv\\lib\\site-packages (from requests->adbutils<2.0.0,>=1.0.8->scrcpy-client->BlueStacksAgent) (2.3.0)\n",
      "Requirement already satisfied: certifi>=2017.4.17 in c:\\users\\aless\\pycharmprojects\\bluestacksagent\\.venv\\lib\\site-packages (from requests->adbutils<2.0.0,>=1.0.8->scrcpy-client->BlueStacksAgent) (2025.1.31)\n",
      "Looking in indexes: https://pypi.org/simple, https://pypi.ngc.nvidia.com\n",
      "Requirement already satisfied: opencv-python in c:\\users\\aless\\pycharmprojects\\bluestacksagent\\.venv\\lib\\site-packages (4.11.0.86)\n",
      "Requirement already satisfied: numpy>=1.21.2 in c:\\users\\aless\\pycharmprojects\\bluestacksagent\\.venv\\lib\\site-packages (from opencv-python) (2.2.3)\n"
     ]
    }
   ],
   "execution_count": 1
  },
  {
   "metadata": {
    "ExecuteTime": {
     "end_time": "2025-02-28T08:50:36.028557Z",
     "start_time": "2025-02-28T08:50:35.420551Z"
    }
   },
   "cell_type": "code",
   "source": [
    "# Import the necessary modules\n",
    "import numpy as np\n",
    "import cv2\n",
    "from BlueStacksAgent import BlueStacksAgent\n",
    "from BlueStacksAgent.agents import ScrcpyAgent\n",
    "\n",
    "# Define a simple Actuator that displays the frames in a window through OpenCV\n",
    "from BlueStacksAgent.actuators.base import BaseActuator\n",
    "\n",
    "\n",
    "class SimpleActuator(BaseActuator):\n",
    "    def __init__(self):\n",
    "        super().__init__()\n",
    "        self.window_name = \"Simple Actuator\"\n",
    "        cv2.namedWindow(self.window_name, cv2.WINDOW_NORMAL)\n",
    "\n",
    "    def process(self, frames: np.ndarray):\n",
    "        frame = frames[-1]  # We display only the latest frame\n",
    "\n",
    "        # Display the frame in a window\n",
    "        cv2.imshow(self.window_name, frame)\n",
    "\n",
    "\n",
    "# Create an instance of the BlueStacksAgent\n",
    "scrcpy_agent = ScrcpyAgent(adb_serial=5557)\n",
    "simple_actuator = SimpleActuator()\n",
    "bluestacks_agent = BlueStacksAgent(stream_agent=scrcpy_agent, actuator=simple_actuator)\n",
    "\n",
    "# Start the capture stream\n",
    "bluestacks_agent.start()"
   ],
   "id": "19b3fa9ca4ea4526",
   "outputs": [
    {
     "name": "stderr",
     "output_type": "stream",
     "text": [
      "Exception in thread Thread-8 (_stream_loop):\n",
      "Traceback (most recent call last):\n",
      "  File \"C:\\Users\\aless\\AppData\\Local\\Programs\\Python\\Python310\\lib\\threading.py\", line 1016, in _bootstrap_inner\n"
     ]
    }
   ],
   "execution_count": 2
  },
  {
   "metadata": {},
   "cell_type": "code",
   "source": [
    "# Stop the capture stream\n",
    "bluestacks_agent.stop()"
   ],
   "id": "1662fef0b1b18371",
   "outputs": [],
   "execution_count": null
  },
  {
   "metadata": {},
   "cell_type": "code",
   "source": [
    "# Close the OpenCV window\n",
    "cv2.destroyAllWindows()"
   ],
   "id": "b95d3131a00358cc",
   "outputs": [],
   "execution_count": null
  }
 ],
 "metadata": {
  "kernelspec": {
   "display_name": "Python 3",
   "language": "python",
   "name": "python3"
  },
  "language_info": {
   "codemirror_mode": {
    "name": "ipython",
    "version": 2
   },
   "file_extension": ".py",
   "mimetype": "text/x-python",
   "name": "python",
   "nbconvert_exporter": "python",
   "pygments_lexer": "ipython2",
   "version": "2.7.6"
  }
 },
 "nbformat": 4,
 "nbformat_minor": 5
}
